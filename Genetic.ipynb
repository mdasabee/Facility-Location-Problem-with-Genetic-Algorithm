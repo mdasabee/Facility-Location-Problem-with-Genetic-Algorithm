{
 "cells": [
  {
   "cell_type": "code",
   "execution_count": null,
   "metadata": {
    "collapsed": true
   },
   "outputs": [],
   "source": [
    "#All necessary functions\n",
    "from itertools import combinations\n",
    "from numpy import loadtxt\n",
    "import random\n",
    "import math"
   ]
  },
  {
   "cell_type": "code",
   "execution_count": null,
   "metadata": {
    "collapsed": true
   },
   "outputs": [],
   "source": [
    "#Encoding function definition\n",
    "def encode(candidates, k):\n",
    "    \"\"\"\n",
    "    candidates - (list) - a list containing candidate nodes eg.[1,2,3]\n",
    "    k - (int) - number of required terminals\n",
    "    \"\"\"\n",
    "    combn = list(combinations(candidates,k))\n",
    "    return combn"
   ]
  },
  {
   "cell_type": "code",
   "execution_count": null,
   "metadata": {
    "collapsed": true
   },
   "outputs": [],
   "source": [
    "#Initialization function definition\n",
    "def initialize(pop,size):\n",
    "    '''\n",
    "    pop - (list) A list containing all chromosomes\n",
    "    size - (int) Representing the size of the initial population\n",
    "    '''\n",
    "    #import random\n",
    "    initial_pop = random.sample(pop,size)\n",
    "    return initial_pop"
   ]
  },
  {
   "cell_type": "code",
   "execution_count": null,
   "metadata": {
    "collapsed": true
   },
   "outputs": [],
   "source": [
    "#Evaluation function definition\n",
    "def evaluate(initial_pop, dist_mat='Data/c.csv',serv_mat='Data/x.3.csv',potential='Data/d.csv',neighbours='Data/J_star.csv'):\n",
    "    '''\n",
    "    initial_pop - list containing all chromosomes\n",
    "    dist_mat - csv file containing distance matrix\n",
    "    serv_mat - csv file containing service matrix \n",
    "    potential - csv file containing potentials for the nodes\n",
    "    neighbours - csv file containing neighbours for candidate nodes\n",
    "    '''\n",
    "    #Reading in csv files\n",
    "    c = loadtxt(dist_mat, delimiter = ',')\n",
    "    x = loadtxt(serv_mat, delimiter = ',')\n",
    "    d = loadtxt(potential,delimiter = ',')\n",
    "    J_star = loadtxt(neighbours,delimiter = ',')\n",
    "\n",
    "    no_chromosomes = len(initial_pop)\n",
    "    count = 0\n",
    "    fitness = []\n",
    "    while count < no_chromosomes:\n",
    "        total = 0\n",
    "        for i in initial_pop[count]:\n",
    "            for j in range(1,21):\n",
    "                total += math.exp(-1*c[i-1][j-1])*x[i-1][j-1]*d[j-1]*J_star[i-1][j-1]\n",
    "        fitness.append(total)\n",
    "        count += 1\n",
    "    return fitness\n",
    "    \n",
    "def evaluate2(initial_pop, dist_mat= 'Data/c.csv', serv_mat = 'Data/x.3.csv', potential = 'Data/d.csv' , neighbours = 'Data/J_star.csv'):\n",
    "    '''\n",
    "    initial_pop - list containing all chromosomes\n",
    "    dist_mat - csv file containing distance matrix\n",
    "    serv_mat - csv file containing service matrix \n",
    "    potential - csv file containing potentials for the nodes\n",
    "    neighbours - csv file containing neighbours for candidate nodes\n",
    "    '''\n",
    "    #Reading in csv files\n",
    "    c = loadtxt(dist_mat, delimiter = ',')\n",
    "    x = loadtxt(serv_mat, delimiter = ',')\n",
    "    d = loadtxt(potential,delimiter = ',')\n",
    "    J_star = loadtxt(neighbours,delimiter = ',')\n",
    "    no_chromosomes = len(initial_pop)\n",
    "\n",
    "    fitness = {}\n",
    "    count = 0\n",
    "    while count < no_chromosomes:\n",
    "        total = 0\n",
    "        for i in initial_pop[count]:\n",
    "            for j in range(20):\n",
    "                total += math.exp(-1*c[i-1][j])*x[i-1][j]*d[j]*J_star[i-1][j]  \n",
    "        fitness[initial_pop[count]] = total\n",
    "        count += 1\n",
    "    return fitness"
   ]
  },
  {
   "cell_type": "code",
   "execution_count": null,
   "metadata": {
    "collapsed": true
   },
   "outputs": [],
   "source": [
    "#helper function for selection process\n",
    "def inside(range_dict, val):\n",
    "    '''\n",
    "    This is a helper function for the selection function\n",
    "    range_dict - (dict) range dictionary with mapping of fitness values and the\n",
    "                    corresponding chromosome\n",
    "    val - (float) a value whose range we are searching for.\n",
    "    '''\n",
    "    for item in range_dict.keys():\n",
    "        if val >= item[0] and val < item[1]:\n",
    "            return range_dict[item]"
   ]
  },
  {
   "cell_type": "code",
   "execution_count": null,
   "metadata": {
    "collapsed": true
   },
   "outputs": [],
   "source": [
    "#Selection Function definitions\n",
    "def Roulette(chromosomes,fitness,n=2):\n",
    "    '''\n",
    "    chromosomes - list containing chromosomes\n",
    "    fitness - dict containing chromosome - fitness pair values for all chromosomes\n",
    "    n - int : number of elements desired in mating pool\n",
    "    '''\n",
    "    range_dict = {}\n",
    "    mating_pool = []\n",
    "    so_far = 0\n",
    "\n",
    "    #This creates the wheel\n",
    "    for chrom in chromosomes:\n",
    "        new_fitness = fitness[chrom]\n",
    "        x,y = so_far , so_far+new_fitness  \n",
    "        range_dict[x,y] = chrom  #try changing this around too\n",
    "        so_far += new_fitness\n",
    "\n",
    "    #This selects randomly from the wheel\n",
    "    for i in range(n):\n",
    "        rnum = random.uniform(0.0 , so_far) \n",
    "        temp = inside(range_dict,rnum)\n",
    "        mating_pool.append(temp)\n",
    "    return mating_pool\n",
    "\n",
    "    \n",
    "def Tournament(Pop, fitness, Tour_Size , rounds = 2):\n",
    "    \"\"\"\n",
    "    Pop - (list) - A population of chromosomes\n",
    "    fitness - (dict) - Chromosome - Fitness value pairs for all chromosomes\n",
    "    Tour_Size - (int) - Number of individuals per tournament\n",
    "    rounds - (int) - Number of tournament rounds to do \n",
    "    \"\"\"\n",
    "    ini_sample = random.sample(Pop , Tour_Size)\n",
    "    #fitness  = []\n",
    "    pool = []\n",
    "    max_fit = 0\n",
    "    max_chrom = 0\n",
    "    for num in range(rounds):\n",
    "        for chrom in ini_sample:\n",
    "            if fitness[chrom] > max_fit:\n",
    "                max_fit = fitness[chrom]\n",
    "                max_chrom = chrom\n",
    "        pool.append(max_chrom)\n",
    "    return pool"
   ]
  },
  {
   "cell_type": "code",
   "execution_count": null,
   "metadata": {
    "collapsed": true
   },
   "outputs": [],
   "source": [
    "#helper function for crossover and mutation functions\n",
    "def get_good_candidates(chrom,candidates= [1,8,9,11,13,16,19]):\n",
    "    \"\"\"\n",
    "    A Helper function for mutation\n",
    "    chrom - (list) - a chromosome\n",
    "    candidates - (list) - list containing candidate nodes\n",
    "    \"\"\"\n",
    "    can_copy = candidates[:]\n",
    "    for gene in chrom:\n",
    "        can_copy.remove(gene)\n",
    "    return can_copy"
   ]
  },
  {
   "cell_type": "code",
   "execution_count": null,
   "metadata": {
    "collapsed": true
   },
   "outputs": [],
   "source": [
    "#Crossover function definitions\n",
    "def NewCrossover(mating_pool, Pc):\n",
    "    '''\n",
    "    mating_pool - list from the selection function\n",
    "    Pc - float (0<Pc<1) - Probability of crossover\n",
    "    '''\n",
    "    parents = random.sample(mating_pool,2)\n",
    "    offspring = []\n",
    "    for gene in parents[0]:\n",
    "        if gene in parents[1]:\n",
    "            offspring.append(gene)\n",
    "    left = len(parents[0])-len(offspring)\n",
    "    good_can = get_good_candidates(offspring)\n",
    "    new_genes = random.sample(good_can,left)\n",
    "    for ng in new_genes:\n",
    "        offspring.append(ng)\n",
    "    return parents,sorted(offspring)\n",
    "    \n",
    "def Uniform(mating_pool, Pc):\n",
    "    '''\n",
    "    mating_pool - list from the selection function\n",
    "    Pc - float (0<Pc<1) - Probability of crossover\n",
    "    '''\n",
    "    if random.uniform(0,1) < Pc:\n",
    "        mating_pool = [list(i) for i in mating_pool]   #converts mating pool from tuple into list\n",
    "        [parent1,parent2] = random.sample(mating_pool,2)\n",
    "        \n",
    "        offspring1 = parent1[:]\n",
    "        offspring2 = parent2[:]\n",
    "        mask = [random.randint(0,1) for i in range(4)]\n",
    "        ind = 0\n",
    "        for j in range(4):\n",
    "            if mask[j] == 1:\n",
    "                offspring1[ind] = parent2[ind]\n",
    "                offspring2[ind] = parent1[ind]\n",
    "            ind += 1\n",
    "    return [parent1,parent2],[offspring1,offspring2]\n",
    "\n",
    "        \n",
    "def OnePoint(mate_pool,Pc):\n",
    "    [parent1,parent2] = random.sample(mate_pool,2)\n",
    "    offspring1 = parent1\n",
    "    offspring2 = parent2\n",
    "    \n",
    "    mask = random.randint(1,4)\n",
    "    if random.uniform(0,1) < Pc:\n",
    "        for j in range(mask-1):\n",
    "    \n",
    "            offspring1[j] = parent2[j]\n",
    "            offspring2[j] = parent1[j]\n",
    "    return offspring1,offspring2"
   ]
  },
  {
   "cell_type": "code",
   "execution_count": null,
   "metadata": {
    "collapsed": true
   },
   "outputs": [],
   "source": [
    "#Mutation function definition\n",
    "def mutate(chromosome, Pm):\n",
    "    \"\"\"\n",
    "    chromosome - a single chromosome string\n",
    "    Pm - probability of mutation\n",
    "    \"\"\"\n",
    "    rnd = random.uniform(0,1)\n",
    "    if rnd < Pm:\n",
    "        ind = random.randint(0,3)\n",
    "        good_candidates = get_good_candidates(chromosome)\n",
    "        new_gene = random.sample(good_candidates,1)\n",
    "        chromosome[ind] = new_gene[0]\n",
    "    return sorted(chromosome)\n"
   ]
  },
  {
   "cell_type": "code",
   "execution_count": null,
   "metadata": {
    "collapsed": true
   },
   "outputs": [],
   "source": [
    "    #elitism    \n",
    "def WeakParent(current_pop, fitness, parents, mutant):\n",
    "    '''\n",
    "    current_pop - (list) - list containing current population\n",
    "    fitness - (dict) - chromosome - fitness value pairs)\n",
    "    parents - (list) - consists of the two parents selected for mating\n",
    "    mutant- (list) - consists of offspring which may or may not have been mutated\n",
    "    '''        \n",
    "    par1_fit = fitness[tuple(parents[0])]\n",
    "    par2_fit = fitness[tuple(parents[1])]\n",
    "    mut_fit = fitness[tuple(mutant)]\n",
    "    if mut_fit > min(par1_fit, par2_fit):\n",
    "        if min(par1_fit, par2_fit) == par1_fit:\n",
    "            weak_parent = parents[0]\n",
    "        else:\n",
    "            weak_parent = parents[1]\n",
    "            \n",
    "        current_pop.remove(tuple(weak_parent))\n",
    "        current_pop.append(tuple(mutant))\n",
    "                \n",
    "    return current_pop    \n",
    "      \n",
    "\n",
    "def Random(current_pop, mutant):\n",
    "    '''\n",
    "    current_pop - (list) - list containing current population of fixed size\n",
    "    mutant - (list) - consists of offspring which may or maynot have been mutated\n",
    "    '''\n",
    "    removee = random.sample(current_pop,1)\n",
    "    current_pop.remove(removee[0])\n",
    "    current_pop.append(tuple(mutant))\n",
    "    return current_pop"
   ]
  },
  {
   "cell_type": "code",
   "execution_count": null,
   "metadata": {
    "collapsed": true
   },
   "outputs": [],
   "source": [
    "# Helper function for determining best offspring.\n",
    "def max_occurs(initial_pop):\n",
    "    max_num = 0\n",
    "    winner = 0\n",
    "    so_far = []\n",
    "    for chrom in initial_pop:\n",
    "        if chrom in so_far:\n",
    "            continue\n",
    "        else:\n",
    "            current = initial_pop.count(chrom)\n",
    "            so_far.append(chrom)\n",
    "            if current > max_num:\n",
    "                max_num = current\n",
    "                winner = chrom\n",
    "    return max_num,winner\n",
    "\n",
    "def max_occurs2(initial_pop):    #This is for the simulation\n",
    "    max_num = 0\n",
    "    winner = 0\n",
    "    so_far = []\n",
    "    for chrom in initial_pop:\n",
    "        if chrom in so_far:\n",
    "            continue\n",
    "        else:\n",
    "            current = initial_pop.count(chrom)\n",
    "            so_far.append(chrom)\n",
    "            if current > max_num:\n",
    "                max_num = current\n",
    "                winner = chrom\n",
    "    return winner\n",
    "    \n"
   ]
  },
  {
   "cell_type": "code",
   "execution_count": null,
   "metadata": {
    "collapsed": true
   },
   "outputs": [],
   "source": [
    "def max_fit(initial_pop,fitness):\n",
    "    small_fit = []\n",
    "    for chrom in initial_pop:\n",
    "        small_fit.append(fitness[chrom])\n",
    "        \n",
    "    return max(small_fit)\n",
    "    \n",
    "def max_fit2(initial_pop,fitness):\n",
    "    small_fit = {}\n",
    "    for chrom in initial_pop:\n",
    "        small_fit[chrom] = fitness[chrom]\n",
    "        \n",
    "    return max(small_fit,key= lambda x:small_fit[x])"
   ]
  }
 ],
 "metadata": {
  "kernelspec": {
   "display_name": "Python 2",
   "language": "python",
   "name": "python2"
  },
  "language_info": {
   "codemirror_mode": {
    "name": "ipython",
    "version": 2
   },
   "file_extension": ".py",
   "mimetype": "text/x-python",
   "name": "python",
   "nbconvert_exporter": "python",
   "pygments_lexer": "ipython2",
   "version": "2.7.11"
  }
 },
 "nbformat": 4,
 "nbformat_minor": 0
}
